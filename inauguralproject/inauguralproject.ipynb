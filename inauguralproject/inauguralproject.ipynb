{
 "cells": [
  {
   "cell_type": "markdown",
   "metadata": {},
   "source": [
    "# Inaugural Project"
   ]
  },
  {
   "cell_type": "markdown",
   "metadata": {},
   "source": [
    "> **Note the following:** \n",
    "> 1. This is an example of how to structure your **inaugural project**.\n",
    "> 1. Remember the general advice on structuring and commenting your code from [lecture 5](https://numeconcopenhagen.netlify.com/lectures/Workflow_and_debugging).\n",
    "> 1. Remember this [guide](https://www.markdownguide.org/basic-syntax/) on markdown and (a bit of) latex.\n",
    "> 1. Turn on automatic numbering by clicking on the small icon on top of the table of contents in the left sidebar.\n",
    "> 1. The `inauguralproject.py` file includes a function which can be used multiple times in this notebook."
   ]
  },
  {
   "cell_type": "markdown",
   "metadata": {},
   "source": [
    "Imports and set magics:"
   ]
  },
  {
   "cell_type": "code",
   "execution_count": 1,
   "metadata": {},
   "outputs": [],
   "source": [
    "import numpy as np\n",
    "import matplotlib.pyplot as plt\n",
    "from numpy import exp, linspace, pi, random, sign, sin\n",
    "\n",
    "# autoreload modules when code is run\n",
    "%load_ext autoreload\n",
    "%autoreload 2\n",
    "\n",
    "# local modules\n",
    "import inauguralproject"
   ]
  },
  {
   "cell_type": "markdown",
   "metadata": {
    "toc-hr-collapsed": true
   },
   "source": [
    "# Question 1"
   ]
  },
  {
   "cell_type": "code",
   "execution_count": 2,
   "metadata": {},
   "outputs": [
    {
     "name": "stdout",
     "output_type": "stream",
     "text": [
      "The level of labour that maximizes utility is 0,4\n",
      "The level of consumption that maximizes utility is 1,24\n"
     ]
    }
   ],
   "source": [
    "# code for solving the model (remember documentation and comments)\n",
    "# We import scipy and numpy\n",
    "import scipy\n",
    "import numpy as np\n",
    "from scipy import optimize \n",
    "from scipy.optimize import minimize\n",
    "import itertools as it\n",
    "\n",
    "# We define a function that returns the values of l and c that maximize the utility function\n",
    "\n",
    "def optimization(w, m=1, v=10, epsilon=0.3, tau0=0.4, tau1=0.1, kappa=0.4):\n",
    "    \"\"\"solves the optimization problem\"\"\"\n",
    "    \n",
    "    # We define the utility function, and since c* = x, we insert the expression for x into the utility function.\n",
    "    def utility(l):\n",
    "        \"\"\"Returns the utility for as a function of labor supply\"\"\"\n",
    "        return np.log(m + w*l - (tau0*w*l + tau1*max(w*l-kappa,0))) - v*(l**(1+(1/epsilon)))/(1+(1/epsilon))\n",
    "    \n",
    "    # Run the minimization\n",
    "    res = scipy.optimize.minimize_scalar(lambda x: -utility(x), bounds=(0, 1), method='bounded')\n",
    "    \n",
    "    # Return a tuple with the values (l*,c*)    \n",
    "    return (res.x, m + w*(res.x) - (tau0*w*(res.x) + tau1*max(w*(res.x)-kappa,0)))\n",
    "\n",
    "# Example with w = 1\n",
    "optimization(1)\n",
    "\n",
    "print(f'The level of labour that maximizes utility is 0,4')\n",
    "print(f'The level of consumption that maximizes utility is 1,24')"
   ]
  },
  {
   "cell_type": "markdown",
   "metadata": {},
   "source": [
    "# Question 2"
   ]
  },
  {
   "cell_type": "code",
   "execution_count": 3,
   "metadata": {},
   "outputs": [
    {
     "data": {
      "text/plain": [
       "<function matplotlib.pyplot.show(*args, **kw)>"
      ]
     },
     "execution_count": 3,
     "metadata": {},
     "output_type": "execute_result"
    },
    {
     "data": {
      "image/png": "[encoded data removed]",
      "text/plain": [
       "<Figure size 720x288 with 2 Axes>"
      ]
     },
     "metadata": {},
     "output_type": "display_data"
    }
   ],
   "source": [
    "# We make a for loop that loops over values of w with np.linspace.\n",
    "\n",
    "N = 10000\n",
    "# We define \n",
    "_w = np.linspace(0.5,1.5,N)\n",
    "_c = np.empty(N)\n",
    "_l = np.empty(N)\n",
    "\n",
    "# We loop through values of w\n",
    "\n",
    "for i,w in enumerate(_w):\n",
    "    _l[i] = optimization(w)[0]\n",
    "    _c[i] = optimization(w)[1]\n",
    "    \n",
    "plt.style.use('seaborn')\n",
    "fig = plt.figure(figsize=(10,4))\n",
    "\n",
    "#subplot 1\n",
    "ax_left = fig.add_subplot(1,2,1)\n",
    "\n",
    "ax_left.plot(_w,_l)\n",
    "\n",
    "ax_left.set_title('Optimal labor supply given wage')\n",
    "ax_left.set_xlabel('$w$')\n",
    "ax_left.set_ylabel('$l^\\star$')\n",
    "ax_left.grid(True)\n",
    "\n",
    "#subplot 2\n",
    "ax_right = fig.add_subplot(1,2,2)\n",
    "\n",
    "ax_right.plot(_w, _c)\n",
    "ax_right.set_title('Optimal consumption given wage')\n",
    "ax_right.set_xlabel('$w$')\n",
    "ax_right.set_ylabel('$c^\\star$')\n",
    "ax_right.grid(True)\n",
    "\n",
    "plt.show"
   ]
  },
  {
   "cell_type": "markdown",
   "metadata": {},
   "source": [
    "By inspecting the graphs it is evident that the optimal supply of labor and consumption are positive functions of the wage. Thus higher wages lead to higher consumption. The kinks in the respective curves highlight the point where the consumers income goes from being taxed through the standard labor income tax, to the top bracket labor income tax.\n"
   ]
  },
  {
   "cell_type": "markdown",
   "metadata": {},
   "source": [
    "# Question 3"
   ]
  },
  {
   "cell_type": "code",
   "execution_count": 4,
   "metadata": {},
   "outputs": [
    {
     "name": "stdout",
     "output_type": "stream",
     "text": [
      "We get a tax revenue of:  1629.33\n"
     ]
    }
   ],
   "source": [
    "# We simulate the uniform distribution with seed 110\n",
    "np.random.seed(117)\n",
    "w_rand = np.random.uniform(0.5,1.5,N)\n",
    "\n",
    "tax = 0\n",
    "for w in w_rand:\n",
    "    tax+= 0.4*w*optimization(w)[0] + 0.1*max(w*optimization(w)[0]-0.4,0)\n",
    "\n",
    "print(f'We get a tax revenue of: {tax: 0.2f}')"
   ]
  },
  {
   "cell_type": "markdown",
   "metadata": {},
   "source": [
    "# Question 4"
   ]
  },
  {
   "cell_type": "code",
   "execution_count": 5,
   "metadata": {},
   "outputs": [
    {
     "name": "stdout",
     "output_type": "stream",
     "text": [
      "Given epsilon=0.1 we get a tax revenue of:  3195.23\n"
     ]
    }
   ],
   "source": [
    "# Same procedure as in question 3, but with a different value for epsilon\n",
    "tax = 0\n",
    "for w in w_rand:\n",
    "        tax+= 0.4*w*optimization(w,epsilon=0.1)[0] + 0.1*max(w*optimization(w,epsilon=0.1)[0]-0.4,0)\n",
    "print(f'Given epsilon=0.1 we get a tax revenue of: {tax: 0.2f}')"
   ]
  },
  {
   "cell_type": "markdown",
   "metadata": {},
   "source": [
    "As the elasticity of labour supply (epsilon) decreases the tax revenue increases. Intuitively this means, that the consumers behaviour on the labour market is relatively less affected by changes in taxes, why the tax revenue increases.\n"
   ]
  },
  {
   "cell_type": "markdown",
   "metadata": {},
   "source": [
    "# Question 5"
   ]
  },
  {
   "cell_type": "code",
   "execution_count": 6,
   "metadata": {},
   "outputs": [
    {
     "name": "stdout",
     "output_type": "stream",
     "text": [
      "The optimal value of tau0 is 0.7\n",
      "The optimal value of tau1 is 0.1\n",
      "The optimal value of kappa is 0.0\n",
      "\n"
     ]
    }
   ],
   "source": [
    "# We start by defining a function, that calculates the total tax revenue.\n",
    "# This function incorporates the consumer's maximization problem, so the the politician will take their decisions into account\n",
    "# If this was not the case, the optimal taxes would be 1.\n",
    "\n",
    "def calculate_tax(x):\n",
    "    \"\"\"Calculates the total tax revenue, incorporating the consumer's problem by \n",
    "    using the optimization function previously defined.\n",
    "    \n",
    "    The function takes a vector of parameters as input (tau1, tau2, kappa) = (x[0],x[1],x[2]).\n",
    "    \"\"\"\n",
    "    \n",
    "    # Generates the wages\n",
    "    np.random.seed(117)\n",
    "    w_rand = np.random.uniform(0.5,1.5,N)\n",
    "    \n",
    "    # calculates the total tax\n",
    "    tax = 0\n",
    "    for w in w_rand:\n",
    "        tax+= x[0]*w*optimization(w,tau0=x[0],tau1=x[1],kappa=x[2])[0] + x[1]*max(w*optimization(w,tau0=x[0],tau1=x[1],kappa=x[2])[0]-x[2],0)\n",
    "    \n",
    "    # Returns the negative tax to be minimized\n",
    "    return -tax\n",
    "\n",
    "# Defines initial values\n",
    "x00 = [0,0,0]\n",
    "\n",
    "# Defines bounds for parameters, all assumed to be between 0 and 1.\n",
    "bounds = scipy.optimize.Bounds([0, 0, 0], [1, 1, 1])\n",
    "\n",
    "# Runs the minimization. This takes a while, as it has to incorporate the consumer's minimization problem in every iteration.\n",
    "# We limit the maximum number of iterations to 100. This reduces the precision of the values.\n",
    "result = scipy.optimize.minimize(calculate_tax,x0 = x00,method='SLSQP',\n",
    "                           options={'maxiter':100,}, bounds=bounds)\n",
    "\n",
    "# Print statement that shows the optimal values of tau0, tau1 and kappa. We round up to 1 decimal.\n",
    "\n",
    "print(f'The optimal value of tau0 is {result.x[0]:.1}''\\n'\n",
    "     f'The optimal value of tau1 is {result.x[1]:.1}''\\n'\n",
    "     f'The optimal value of kappa is {result.x[2]:.2}''\\n')"
   ]
  },
  {
   "cell_type": "markdown",
   "metadata": {},
   "source": [
    "# Question 6"
   ]
  },
  {
   "cell_type": "markdown",
   "metadata": {},
   "source": [
    "In order to solve the Labour Supply problems presented in this assignment, Python code was constructed. More specifically code with the aim of optimizing the specified maximization problems. Additonaly the optimal choices of respectively labour and consumption are found through graphical analyses. To calculate the tax revenue these values are used. Furthermore the impact of changes in the Firsch elasticity of labour supply on tax revenue is analyzed and it is concluded that these have a significant impact.\n",
    "To conclude with the optimal values of the standard labour income tax and the top bracket labor income tax are found by maximizing the tax revenue. "
   ]
  },
  {
   "cell_type": "code",
   "execution_count": null,
   "metadata": {},
   "outputs": [],
   "source": []
  },
  {
   "cell_type": "code",
   "execution_count": null,
   "metadata": {},
   "outputs": [],
   "source": []
  }
 ],
 "metadata": {
  "kernelspec": {
   "display_name": "Python 3",
   "language": "python",
   "name": "python3"
  },
  "language_info": {
   "codemirror_mode": {
    "name": "ipython",
    "version": 3
   },
   "file_extension": ".py",
   "mimetype": "text/x-python",
   "name": "python",
   "nbconvert_exporter": "python",
   "pygments_lexer": "ipython3",
   "version": "3.7.4"
  },
  "toc-autonumbering": true
 },
 "nbformat": 4,
 "nbformat_minor": 4
}
