# To add a new cell, type '# %%'
# To add a new markdown cell, type '# %% [markdown]'
# %%
from IPython import get_ipython

# %% [markdown]
# # A look at a shocks in a fixed exchange rate economy
# %% [markdown]
# > **Note the following:** 
# > 1. This is *not* meant to be an example of an actual **model analysis project**, just an example of how to structure such a project.
# > 1. Remember the general advice on structuring and commenting your code from [lecture 5](https://numeconcopenhagen.netlify.com/lectures/Workflow_and_debugging).
# > 1. Remember this [guide](https://www.markdownguide.org/basic-syntax/) on markdown and (a bit of) latex.
# > 1. Turn on automatic numbering by clicking on the small icon on top of the table of contents in the left sidebar.
# > 1. The `modelproject.py` file includes a function which could be used multiple times in this notebook.
# %% [markdown]
# Imports and set magics:

# %%
from scipy import optimize
import sympy as sm
import numpy as np
import IPython.display as dp
import ipywidgets as widgets
import matplotlib.pyplot as plt

# autoreload modules when code is run
get_ipython().run_line_magic('load_ext', 'autoreload')
get_ipython().run_line_magic('autoreload', '2')

# local modules
import modelproject

# %% [markdown]
# # Model description
# %% [markdown]
# We consider a simple **AS-AD model** where:
# 
# - $y_t$ is output in period t
# - $\bar{y}$ is the neutral output
# - $\pi_{t}$ is the inflation in period t
# - $\pi^{f}$ is the foreign inflation
# - $z_t$ is a demand shock
# - $s_t$ is a supply shock
# 
# It is helpfull for us to introduce a shorthand for gaps between the current value of a variable and the neutral value:
# 
# $$ \hat{y}_t \equiv y_{t}-\bar{y} $$
# 
# $$ \hat{\pi}_{t} \equiv \pi_{t}-\pi^{f} $$
# 
# The model of the economy is then given by the two equations:
# 
# $$\hat{\pi}_{t} = \frac{1}{\beta}(z_{t}-\hat{y}_{t})$$
# 
# $$\hat{\pi}_{t} = \hat{\pi}_{t-1} + \gamma \hat{y}_{t} + s_{t}$$
# %% [markdown]
# # Analytical solution
# %% [markdown]
# We can use the package sympy to solve the model analytically. We start by defining all **symbols**:

# %%
yhat = sm.symbols('\hat{y}_t')
pihat = sm.symbols('\hat{\pi}_t')
pilast = sm.symbols('\hat{\pi}_{t-1}')
gamma = sm.symbols('gamma')
beta = sm.symbols('beta')
s = sm.symbols('s_t')
z = sm.symbols('z_t')

# %% [markdown]
# We define the equations describing the aggregate supply and demand

# %%
sm.init_printing(pretty_print= True)
AD = sm.Eq(pihat,(1/beta*z-1/beta*yhat))
AS = sm.Eq(pihat,(pilast+gamma*yhat+s))
display(AD,AS)

# %% [markdown]
# and **solve** it

# %%
sm.init_printing(pretty_print = True)
Solution = sm.solve([AS,AD], (yhat, pihat))
Solution

# %% [markdown]
# For use in the plotting of the model, we save both the AS and AD equation aswell as the solutions as **Python functions**.

# %%
AD = -yhat/beta +z/beta
AS = yhat*gamma+s

#defines the AS and AD expression as functions
AD_func = sm.lambdify((yhat,beta,z),AD)
AS_func = sm.lambdify((pilast,yhat,gamma,s),AS)

#deifines the solutions as functions
pi_eq = sm.lambdify((pilast,beta,gamma,s,z), Solution[pihat])
y_eq = sm.lambdify((pilast,beta,gamma,s,z),Solution[yhat])

# %% [markdown]
# # Graphical interpretations of the model
# %% [markdown]
# In textbooks shocks to the model is usually represented by the following figure showing the imediate effect of a supply shock to the economy

# %%
# defining the slopes and intercepts of the curves
m1, b1 = (1), 1 # Initial AS curve
m2, b2 = (1), 0 # AS curve after shock
m3, b3 = (-0.5), (4)# AD curve


x = np.linspace(-5,5,100)
plt.figure(figsize=(6,6))
plt.xlim(0,5)
plt.ylim(0,5)
plt.title('AS-AD model') 
# naming the x axis 
plt.xlabel('y') 
# naming the y axis 
plt.ylabel('pi') 

# plotting the curves 
plt.plot(x,x*m1+b1, label = 'AS_0',color="maroon")  # Initial AS curve
plt.plot(x,x*m2+b2, label = 'AS_1',color="olive")  #  AS curve after shock
plt.plot(x,x*m3+b3, label = 'AD',color="navy")  # AD Curve
plt.axvline(2, label ='LRAS') # Long Run Aggregate supply LRAS curve


plt.legend()
ax = plt.axes()

# ease reading the model, by adding dotted lines to the axes 
ax.arrow(2.666, 2.666, -3.2, 0.0, head_width=0, head_length=0, fc='grey', ec='black',ls='dotted',)
ax.arrow(2.666, 2.666, 0.0, -2.666, head_width=0, head_length=0, fc='grey', ec='black',ls='dotted',)

plt.show()

# %% [markdown]
# But since this is not at textbook, we can instead make an interactable graph

# %%
def equilibrium_plot(beta=0.8,gamma=0.3):
    
    # plotting the equilibrium points
    pi_star = pi_eq(pilast,beta,gamma,z,s)
    y_star = y_eq(pilast,beta,gamma,z,s)
    plt.plot(pi_star,y_star, marker='o', markersize=5, color="maroon")
    
    # plotting the AS and AD curves
    y_hat = np.arange(-10,10, 0.1)
    AS = AS_func(pilast,yhat,gamma,s) 
    AD = AD_func(yhat,beta,z) 
    plt.plot(yhat,AS)
    plt.plot(yhat,AD)
    
    # setting up the plot
    plt.xlabel('$\hat{y}_t$')
    plt.ylabel('$\hat{\pi}_t$')
    plt.xlim(-5,5)
    plt.ylim(-5,5)
    plt.legend(["equilibrium","AS","AD"])
    plt.show()
    
    # adding interactable  through sliding widgets
widgets.interact(equilibrium_plot, 
                z = (-1,1,0.01),
                s = (-1.1,0.01))


# %%
# Simulating the model 

# %% [markdown]
# We simulate the model, to show how supply shocks perpetuates through the economy, assuming  the shock to follow an AR-1 proces i.e. $s_{t} = \alpha_{s} s_{t-1} + c_t$ the shocks to be white noise i.e. $c_t=N(0,\sigma^2)$, and

# %%
# specifiying the parameter space for the simulation:

parameters = {'beta':0.8,
              'gamma':0.3,
              'h':0.5,
              'b':0.5,
              'alpha_1':0.15,
              'alpha_2':0.8,
              'sigma_x':2,
              'sigma_c':0.2,
              }


# %%

def simulate(parameters,T,supply_shock = True, demand_shock = True):

    # setting the seed for the random drawings
    np.random.seed(117)

    # allocating memory to the relevant parameters
    sim = {'y': np.zeros(T),
           'pi': np.zeros(T),
           's': np.zeros(T),
           'z_1': np.zeros(T),
           'z': np.zeros(T),
           'x':np.zeros(T),
           'c':np.zeros(T)}

    # draw random shock in period 1
    if supply_shock == True:
        sim['c'][1] = np.random.normal(loc=0,scale=parameters['sigma_c'])
    
    if demand_shock == True:
        sim['x'][1] = np.random.normal(loc=0,scale=parameters['sigma_x'])
        
    # simulate T periods
    for t in range(1,T):
        
        # imposing the shocks
        sim['z'][t] = parameters['alpha_1']*sim['z'][t-1] + sim['x'][t]
        sim['s'][t] = parameters['alpha_2']*sim['s'][t-1] + sim['c'][t]

        # calculating the output in the period
        sim['y'][t] = y_eq(sim['pi'][t-1], parameters['gamma'], parameters['beta'] ,sim['z'][t],sim['s'][t])
        
        # calculating the inflation in the period
        sim['pi'][t] = pi_eq(parameters['beta'],parameters['gamma'],sim['pi'][t-1],sim['z'][t],sim['s'][t])
    
    return sim


# %%
# simulating

T=111
sim = simulate(parameters, T, supply_shock = True, demand_shock = False)


# %%
fig = plt.figure()
ax = fig.add_subplot(1,1,1)

# plotting the values
ax.plot(sim['y'][1:],sim['pi'][1:])

# naming the axes
ax.set_xlabel('$\hat{y}_t$')
ax.set_ylabel('$\hat{\pi}_t$');

# %% [markdown]
# # Conclusion
# %% [markdown]
# ADD CONCISE CONCLUSION.
